{
  "nbformat": 4,
  "nbformat_minor": 0,
  "metadata": {
    "colab": {
      "name": "Project.ipynb",
      "provenance": [],
      "collapsed_sections": []
    },
    "kernelspec": {
      "name": "python3",
      "display_name": "Python 3"
    },
    "language_info": {
      "name": "python"
    }
  },
  "cells": [
    {
      "cell_type": "markdown",
      "metadata": {
        "id": "1r3zxbrTB2jF"
      },
      "source": [
        "\n",
        "\n",
        "# > **Control Flow:**\n",
        "\n",
        "\n",
        "\n",
        "Welcome to this lesson on Control Flow! Control flow is the sequence in which your code is run helping you in decision making. Here, we'll learn about several tools in Python we can use to affect our code's control flow:\n",
        "\n",
        "    Conditional Statements\n",
        "    Boolean Expressions\n",
        "    For and While Loops\n",
        "    Break and Continue\n"
      ]
    },
    {
      "cell_type": "markdown",
      "metadata": {
        "id": "vgowqt1RB7jA"
      },
      "source": [
        "\n",
        "# > **Conditional If Statements:**\n",
        "\n",
        "\n",
        "\n",
        "\n",
        "Sometimes we need to run a line of code only if a particular condition is true. For example suppose that you have subscribed to a sharebike rental service.\n",
        "\n",
        "Lets look at its pay as you use billing system. The app contains a credit balance which then the user can use to rent the bikes.\n",
        "\n",
        "The customer can then setup a link to their bank account so that if their phone credit balance goes below a particular threshold amountm, in this case Rs.100, then Rs.500 in credit is then added from their bank account.\n",
        "\n",
        "this can be represented as in below:\n",
        "\n",
        "if bikeapp_balance < 100:\n",
        "  bikeapp_balance += 500\n",
        "  bank_balance -= 500"
      ]
    },
    {
      "cell_type": "code",
      "metadata": {
        "id": "ZWifMNn0CQyq"
      },
      "source": [
        "bikeapp_balance = 99\n",
        "bank_balance = 1000\n",
        "\n",
        "print(bikeapp_balance, bank_balance)\n",
        "\n",
        "if(bikeapp_balance<100):\n",
        "  bikeapp_balance += 500\n",
        "  bank_balance -= 500\n",
        "\n",
        "print(bikeapp_balance, bank_balance)"
      ],
      "execution_count": null,
      "outputs": []
    },
    {
      "cell_type": "markdown",
      "metadata": {
        "id": "6aJxsk8QDC38"
      },
      "source": [
        "\n",
        "\n",
        "*  An if statement starts with the if keyword, followed by the condition to be checked, in this case bikeapp_balance < 100, and then a colon. The condition is specified in a boolean expression that evaluates to either True or False.\n",
        "*   After this line is an indented block of code to be executed if that condition is true. Here, the lines that increment bikeapp_balance and decrement bank_balance only execute if it is true that bikeapp_balance is less than 100. If not, the code in this if block is simply skipped.\n",
        "\n",
        "You have learned about Python's comparison operators (e.g. == and !=) and how they are different from assignment operators (e.g. =). In conditional statements, you want to use comparison operators. For example, you'd want to use if x == 5 rather than if x = 5. If your conditional statement is causing a syntax error or doing something unexpected, check whether you have written == or =!\n",
        "\n"
      ]
    },
    {
      "cell_type": "markdown",
      "metadata": {
        "id": "cyEtkCy9DcO5"
      },
      "source": [
        "Conditional If Else Statements:\n",
        "\n",
        "Else helps us to execute a diffrent block of code when a particular condition is not true or even for multiple other conditions diffrent from the if() condition.\n",
        "\n",
        "Lets see it in action using an example:\n"
      ]
    },
    {
      "cell_type": "code",
      "metadata": {
        "id": "3OXP1A_sDiKJ"
      },
      "source": [
        "n=4\n",
        "\n",
        "if (n%2 == 0):\n",
        "  print(\"Number \" + str(n) + \" is even.\")\n",
        "else:\n",
        "  print(\"Number \" + str(n) + \" is odd.\")"
      ],
      "execution_count": null,
      "outputs": []
    },
    {
      "cell_type": "markdown",
      "metadata": {
        "id": "oRn6ivEaDoiD"
      },
      "source": [
        "if you have more than 2 possible cases then you can also use elif(). Lets look at an example:"
      ]
    },
    {
      "cell_type": "code",
      "metadata": {
        "id": "8Z1ti65UDqVH"
      },
      "source": [
        "season = 'fall'\n",
        "\n",
        "if season == 'spring':\n",
        "    print('plant the garden!')\n",
        "elif season == 'summer':\n",
        "    print('water the garden!')\n",
        "elif season == 'fall':\n",
        "    print('harvest the garden!')\n",
        "elif season == 'winter':\n",
        "    print('stay indoors!')\n",
        "else:\n",
        "    print('unrecognized season')"
      ],
      "execution_count": null,
      "outputs": []
    },
    {
      "cell_type": "markdown",
      "metadata": {
        "id": "cwWBDAa0D4nt"
      },
      "source": [
        "Summarize If, Elif, Else:\n",
        "\n",
        "\n",
        "*   if: An if statement must always start with an if clause, which contains the first condition that is checked. If this evaluates to True, Python runs the code indented in this if block and then skips to the rest of the code after the if statement.\n",
        "*   elif: elif is short for \"else if.\" An elif clause is used to check for an additional condition if the conditions in the previous clauses in the if statement evaluate to False. As you can see in the example, you can have multiple elif blocks to handle different situations.\n",
        "\n",
        "\n",
        "*   else: Last is the else clause, which must come at the end of an if statement if used. This clause doesn't require a condition. The code in an else block is run if all conditions above that in the if statement evaluate to False.\n",
        "\n",
        "\n",
        "\n",
        "\n"
      ]
    },
    {
      "cell_type": "markdown",
      "metadata": {
        "id": "ZusOy_xDKEUD"
      },
      "source": [
        "\n",
        "\n",
        "# > **Ouestion:**\n",
        "\n",
        "Write an if statement that lets a student know which of these grades they got based on the number they got in exams, which is stored in the integer variable marks.\n",
        "\n",
        "Marks -> Grade\n",
        "\n",
        "100-90 -> A+\n",
        "\n",
        "90-80 -> A\n",
        "\n",
        "80-70 -> B\n",
        "\n",
        "70-60 -> C\n",
        "\n",
        "60-50 -> D\n",
        "\n",
        "50-40 -> E\n",
        "\n",
        "<40 -> F\n",
        "\n",
        "\n",
        "    All of the lower and upper bounds here are inclusive, and marks can only take on positive integer values up to 100.\n",
        "\n",
        "In your if statement, assign the result variable to a string holding the appropriate message based on the value of marks.\n",
        "\n",
        "\"you have scored *[Grade]* Grade.\"\n",
        "\n"
      ]
    },
    {
      "cell_type": "code",
      "metadata": {
        "id": "J_cOxBdZKict"
      },
      "source": [
        "marks = 60  # use this input to make your submission\n",
        "\n",
        "# write your if statement here\n",
        "\n",
        "\n",
        "print(result)"
      ],
      "execution_count": null,
      "outputs": []
    },
    {
      "cell_type": "markdown",
      "metadata": {
        "id": "3H-MLyFXKrfv"
      },
      "source": [
        "\n",
        "\n",
        "# > **Question:**\n",
        "\n",
        "Depending on where an individual is from we need to tax them appropriately. The states of CA, MN, and NY have taxes of 7.5%, 9.5%, and 8.9% respectively. Use this information to take the amount of a purchase and the corresponding state to assure that they are taxed by the right amount.\n",
        "\n",
        "\n"
      ]
    },
    {
      "cell_type": "code",
      "metadata": {
        "id": "QWPF-QzvK1K3"
      },
      "source": [
        "state = #Either CA, MN, or NY\n",
        "purchase_amount = #amount of purchase\n",
        "\n",
        "if #provide conditional for checking state is CA\n",
        "    tax_amount = .075\n",
        "    total_cost = purchase_amount*(1+tax_amount)\n",
        "    result = \"Since you're from {}, your total cost is {}.\".format(state, total_cost)\n",
        "\n",
        "elif #provide conditional for checking state is MN\n",
        "    tax_amount = .095\n",
        "    total_cost = purchase_amount*(1+tax_amount)\n",
        "    result = \"Since you're from {}, your total cost is {}.\".format(state, total_cost)\n",
        "\n",
        "elif #provide conditional for checking state is NY\n",
        "    tax_amount = .089\n",
        "    total_cost = purchase_amount*(1+tax_amount)\n",
        "    result = \"Since you're from {}, your total cost is {}.\".format(state, total_cost)\n",
        "\n",
        "print(result)"
      ],
      "execution_count": null,
      "outputs": []
    },
    {
      "cell_type": "markdown",
      "metadata": {
        "id": "-kp4vlOZK8aQ"
      },
      "source": [
        "\n",
        "\n",
        "# > **For Loops:**\n",
        "\n",
        "Python has two kinds of loops - for loops and while loops. A for loop is used to \"iterate\", or do something repeatedly, over an iterable.\n",
        "\n",
        "An iterable is an object that can return one of its elements at a time. This can include sequence types, such as strings, lists, and tuples, as well as non-sequence types, such as dictionaries and files.\n",
        "\n",
        "Example:\n",
        "\n",
        "\n"
      ]
    },
    {
      "cell_type": "code",
      "metadata": {
        "id": "cKk_TYf3LFMH"
      },
      "source": [
        "cities = ['new york city', 'mountain view', 'chicago', 'los angeles']\n",
        "for city in cities:\n",
        "    print(city)\n",
        "print(\"Done!\")"
      ],
      "execution_count": null,
      "outputs": []
    },
    {
      "cell_type": "markdown",
      "metadata": {
        "id": "PajddrYeLWi4"
      },
      "source": [
        "\n",
        "\n",
        "# > **Components of a for Loop:**\n",
        "\n",
        "\n",
        "1.   The first line of the loop starts with the for keyword, which signals that this is a for loop\n",
        "1.   Following that is city in cities, indicating city is the iteration variable, and cities is the iterable being looped over. In the first iteration of the loop, city gets the value of the first element in cities, which is “new york city”.\n",
        "2.   The for loop heading line always ends with a colon :\n",
        "4.   Following the for loop heading is an indented block of code, the body of the loop, to be executed in each iteration of this loop. There is only one line in the body of this loop - print(city).\n",
        "5.   After the body of the loop has executed, we don't move on to the next line yet; we go back to the for heading line, where the iteration variable takes the value of the next element of the iterable. In the second iteration of the loop above, city takes the value of the next element in cities, which is \"mountain view\".\n",
        "6.   This process repeats until the loop has iterated through all the elements of the iterable. Then, we move on to the line that follows the body of the loop - in this case, print(\"Done!\"). We can tell what the next line after the body of the loop is because it is unindented. Here is another reason why paying attention to your indentation is very important in Python!\n",
        "\n",
        "\n",
        "\n",
        "\n",
        "\n"
      ]
    },
    {
      "cell_type": "markdown",
      "metadata": {
        "id": "s96YioUiMLs0"
      },
      "source": [
        "\n",
        "\n",
        "# > **Using the range() Function with for Loops:**\n",
        "\n",
        "range() is a built-in function used to create an iterable sequence of numbers. You will frequently use range() with a for loop to repeat an action a certain number of times, as in this example:\n",
        "\n"
      ]
    },
    {
      "cell_type": "code",
      "metadata": {
        "id": "hvWU5kLwMX7V"
      },
      "source": [
        "for i in range(3):\n",
        "    print(\"Hello!\")"
      ],
      "execution_count": null,
      "outputs": []
    },
    {
      "cell_type": "markdown",
      "metadata": {
        "id": "eUQ0eQh7MfQs"
      },
      "source": [
        "\n",
        "\n",
        "# > **range(start=0, stop, step=1)**\n",
        "\n",
        "The range() function takes three integer arguments, the first and third of which are optional:\n",
        "\n",
        "\n",
        "*   The 'start' argument is the first number of the sequence. If unspecified, 'start' defaults to 0.\n",
        "*   The 'stop' argument is 1 more than the last number of the sequence. This argument must be specified.\n",
        "*       The 'step' argument is the difference between each number in the sequence. If unspecified, 'step' defaults to 1.\n",
        "\n",
        "Notes on using range():\n",
        "*   If you specify one integer inside the parentheses withrange(), it's used as the value for 'stop,' and the defaults are used for the other two. Example-\n",
        "\n",
        "\n",
        "\n",
        "\n",
        "\n"
      ]
    },
    {
      "cell_type": "code",
      "metadata": {
        "id": "jjg0cuxEM_Qn"
      },
      "source": [
        "for i in range(4):\n",
        "  print(i)"
      ],
      "execution_count": null,
      "outputs": []
    },
    {
      "cell_type": "markdown",
      "metadata": {
        "id": "PhNJPEN8NGj2"
      },
      "source": [
        "\n",
        "\n",
        "*   If you specify two integers inside the parentheses withrange(), they're used for 'start' and 'stop,' and the default is used for 'step.' Example-\n",
        "\n"
      ]
    },
    {
      "cell_type": "code",
      "metadata": {
        "id": "VfufUEoGNL2N"
      },
      "source": [
        "for i in range(2, 6):\n",
        "  print(i)"
      ],
      "execution_count": null,
      "outputs": []
    },
    {
      "cell_type": "markdown",
      "metadata": {
        "id": "v2opTHUENQW_"
      },
      "source": [
        "\n",
        "\n",
        "*   Or you can specify all three integers for 'start', 'stop', and 'step.' Example-\n",
        "\n",
        "\n"
      ]
    },
    {
      "cell_type": "code",
      "metadata": {
        "id": "lrK9Ju4sNWgP"
      },
      "source": [
        "for i in range(1, 10, 2):\n",
        "  print(i)"
      ],
      "execution_count": null,
      "outputs": []
    },
    {
      "cell_type": "markdown",
      "metadata": {
        "id": "dN1GIg0PNgH9"
      },
      "source": [
        "\n",
        "\n",
        "# > **Creating and Modifying Lists:**\n",
        "\n",
        "In addition to extracting information from lists, as we did in the first example above, you can also create and modify lists with for loops. You can create a list by appending to a new list at each iteration of the for loop like this:\n",
        "\n"
      ]
    },
    {
      "cell_type": "code",
      "metadata": {
        "id": "fmAwCrZRNrGr"
      },
      "source": [
        "# Creating a new list\n",
        "cities = ['new york city', 'mountain view', 'chicago', 'los angeles']\n",
        "capitalized_cities = []\n",
        "\n",
        "for city in cities:\n",
        "    capitalized_cities.append(city.title())"
      ],
      "execution_count": null,
      "outputs": []
    },
    {
      "cell_type": "code",
      "metadata": {
        "id": "bMK2nhhYNvnv"
      },
      "source": [
        "for cap_city in capitalized_cities:\n",
        "  print(cap_city)"
      ],
      "execution_count": null,
      "outputs": []
    },
    {
      "cell_type": "markdown",
      "metadata": {
        "id": "ypIqvNq1N0zu"
      },
      "source": [
        "**Modifying** a list is a bit more involved, and requires the use of the range() function.\n",
        "\n",
        "We can use the range() function to generate the indices for each value in the cities list. This lets us access the elements of the list with cities[index] so that we can modify the values in the cities list in place.\n"
      ]
    },
    {
      "cell_type": "code",
      "metadata": {
        "id": "HzoLBkQUN-BK"
      },
      "source": [
        "cities = ['new york city', 'mountain view', 'chicago', 'los angeles']\n",
        "\n",
        "for index in range(len(cities)):\n",
        "    cities[index] = cities[index].title()"
      ],
      "execution_count": null,
      "outputs": []
    },
    {
      "cell_type": "code",
      "metadata": {
        "id": "3fb0oy2-OBYk"
      },
      "source": [
        "for city in cities:\n",
        "    print(city)"
      ],
      "execution_count": null,
      "outputs": []
    }
  ]
}